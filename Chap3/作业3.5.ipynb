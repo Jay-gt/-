{
 "cells": [
  {
   "cell_type": "code",
   "execution_count": 1,
   "metadata": {},
   "outputs": [],
   "source": [
    "import numpy as np\n",
    "import matplotlib.pyplot as plt\n",
    "%matplotlib inline"
   ]
  },
  {
   "cell_type": "code",
   "execution_count": 11,
   "metadata": {},
   "outputs": [],
   "source": [
    "X = np.array([[0.697,0.46],\n",
    "             [0.774,0.376],\n",
    "             [0.634,0.264],\n",
    "             [0.608,0.318],\n",
    "             [0.556,0.215],\n",
    "             [0.403,0.237],\n",
    "             [0.481,0.149],\n",
    "             [0.437,0.211],\n",
    "             [0.666,0.091],\n",
    "             [0.243,0.267],\n",
    "             [0.245,0.057],\n",
    "             [0.343,0.099],\n",
    "             [0.639,0.161],\n",
    "             [0.657,0.198],\n",
    "             [0.36,0.37],\n",
    "             [0.593,0.042],\n",
    "             [0.719,0.103]])\n",
    "y = np.array([1,1,1,1,1,1,1,1,0,0,0,0,0,0,0,0,0])\n",
    "y = y.reshape((-1,1))"
   ]
  },
  {
   "cell_type": "code",
   "execution_count": 18,
   "metadata": {},
   "outputs": [],
   "source": [
    "u1 = np.sum(X[8:],axis=0)/X[8:].shape[0] #u1对应0样本的均值向量\n",
    "u2 = np.sum(X[:8],axis=0)/X[:8].shape[0] #u2对应1样本的均值向量"
   ]
  },
  {
   "cell_type": "code",
   "execution_count": 26,
   "metadata": {},
   "outputs": [],
   "source": [
    "Sw = (X[8:]-u1).T @ (X[8:]-u1) + (X[:8]-u2).T @ (X[:8]-u2)"
   ]
  },
  {
   "cell_type": "code",
   "execution_count": 35,
   "metadata": {},
   "outputs": [],
   "source": [
    "w = np.linalg.inv(Sw) @ (u1-u2).reshape((-1,1))"
   ]
  },
  {
   "cell_type": "code",
   "execution_count": 36,
   "metadata": {},
   "outputs": [
    {
     "data": {
      "text/plain": [
       "(2, 1)"
      ]
     },
     "execution_count": 36,
     "metadata": {},
     "output_type": "execute_result"
    }
   ],
   "source": [
    "w.shape"
   ]
  },
  {
   "cell_type": "markdown",
   "metadata": {},
   "source": [
    "$$\n",
    "\\text{对于直线上的点}\\left( x,y \\right) \\text{，}\\frac{x}{y}=\\frac{w\\left[ 0 \\right]}{w\\left[ 1 \\right]}\\text{，}y=x\\cdot \\frac{w\\left[ 1 \\right]}{w\\left[ 0 \\right]}\n",
    "$$\n"
   ]
  },
  {
   "cell_type": "code",
   "execution_count": 58,
   "metadata": {},
   "outputs": [
    {
     "data": {
      "text/plain": [
       "[<matplotlib.lines.Line2D at 0x1dcc22d9460>]"
      ]
     },
     "execution_count": 58,
     "metadata": {},
     "output_type": "execute_result"
    },
    {
     "data": {
      "image/png": "[encoded data removed]",
      "text/plain": [
       "<Figure size 432x288 with 1 Axes>"
      ]
     },
     "metadata": {
      "needs_background": "light"
     },
     "output_type": "display_data"
    }
   ],
   "source": [
    "plt.scatter(X[8:,0],X[8:,1],marker='o',c='r')\n",
    "plt.scatter(X[:8,0],X[:8,1],marker='^',c='g')\n",
    "x=np.arange(0,1,0.01)\n",
    "y=np.array((w[1]*x)/w[0])\n",
    "plt.plot(x,y)"
   ]
  },
  {
   "cell_type": "markdown",
   "metadata": {},
   "source": [
    "### 两类样本在二维特征平面上分布距离不大，故题目的样本非线性可分"
   ]
  }
 ],
 "metadata": {
  "kernelspec": {
   "display_name": "Python 3",
   "language": "python",
   "name": "python3"
  },
  "language_info": {
   "codemirror_mode": {
    "name": "ipython",
    "version": 3
   },
   "file_extension": ".py",
   "mimetype": "text/x-python",
   "name": "python",
   "nbconvert_exporter": "python",
   "pygments_lexer": "ipython3",
   "version": "3.8.5"
  }
 },
 "nbformat": 4,
 "nbformat_minor": 4
}
