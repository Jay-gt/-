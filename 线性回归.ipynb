{
 "cells": [
  {
   "cell_type": "code",
   "execution_count": 1,
   "metadata": {},
   "outputs": [],
   "source": [
    "import numpy as np\n",
    "import pandas as pd\n",
    "import matplotlib.pyplot as plt\n",
    "from sklearn.datasets import make_regression\n",
    "\n",
    "%matplotlib inline"
   ]
  },
  {
   "cell_type": "code",
   "execution_count": 2,
   "metadata": {
    "scrolled": true
   },
   "outputs": [
    {
     "data": {
      "text/plain": [
       "<matplotlib.collections.PathCollection at 0x22aa7d00220>"
      ]
     },
     "execution_count": 2,
     "metadata": {},
     "output_type": "execute_result"
    },
    {
     "data": {
      "image/png": "[encoded data removed]",
      "text/plain": [
       "<Figure size 432x288 with 1 Axes>"
      ]
     },
     "metadata": {
      "needs_background": "light"
     },
     "output_type": "display_data"
    }
   ],
   "source": [
    "X,y = make_regression(n_samples=100,noise=20,n_features=1)\n",
    "plt.scatter(X,y)"
   ]
  },
  {
   "cell_type": "markdown",
   "metadata": {},
   "source": [
    "## 线性回归的闭式解"
   ]
  },
  {
   "cell_type": "code",
   "execution_count": 3,
   "metadata": {},
   "outputs": [],
   "source": [
    "x_avg = np.average(X)"
   ]
  },
  {
   "cell_type": "code",
   "execution_count": 4,
   "metadata": {},
   "outputs": [],
   "source": [
    "X_avg = np.full(shape=(100,1), fill_value=x_avg)"
   ]
  },
  {
   "cell_type": "code",
   "execution_count": 6,
   "metadata": {},
   "outputs": [],
   "source": [
    "y = y.reshape(-1, 1)"
   ]
  },
  {
   "cell_type": "code",
   "execution_count": 7,
   "metadata": {},
   "outputs": [
    {
     "data": {
      "text/plain": [
       "2581.127451906151"
      ]
     },
     "execution_count": 7,
     "metadata": {},
     "output_type": "execute_result"
    }
   ],
   "source": [
    "molecular = np.sum(y*(X-X_avg))  #分子\n",
    "molecular"
   ]
  },
  {
   "cell_type": "code",
   "execution_count": 8,
   "metadata": {},
   "outputs": [],
   "source": [
    "denominator_1 = np.sum(X*X)   #分母第一部分"
   ]
  },
  {
   "cell_type": "code",
   "execution_count": 9,
   "metadata": {},
   "outputs": [
    {
     "data": {
      "text/plain": [
       "0.23774777050616866"
      ]
     },
     "execution_count": 9,
     "metadata": {},
     "output_type": "execute_result"
    }
   ],
   "source": [
    "denominator_2 = np.sum(X) * np.sum(X) / 100   #分母第二部分\n",
    "denominator_2"
   ]
  },
  {
   "cell_type": "code",
   "execution_count": 10,
   "metadata": {},
   "outputs": [
    {
     "data": {
      "text/plain": [
       "27.496857102778666"
      ]
     },
     "execution_count": 10,
     "metadata": {},
     "output_type": "execute_result"
    }
   ],
   "source": [
    "w = molecular / (denominator_1 - denominator_2)\n",
    "w"
   ]
  },
  {
   "cell_type": "code",
   "execution_count": 11,
   "metadata": {},
   "outputs": [
    {
     "data": {
      "text/plain": [
       "-0.9299268135382761"
      ]
     },
     "execution_count": 11,
     "metadata": {},
     "output_type": "execute_result"
    }
   ],
   "source": [
    "b = np.sum(y - w*X) / 100\n",
    "b"
   ]
  },
  {
   "cell_type": "code",
   "execution_count": 12,
   "metadata": {
    "collapsed": true
   },
   "outputs": [
    {
     "data": {
      "text/plain": [
       "array([[ -9.26837034],\n",
       "       [-11.16696184],\n",
       "       [-37.53507993],\n",
       "       [ 20.3338194 ],\n",
       "       [  1.64639948],\n",
       "       [ 14.32824943],\n",
       "       [ 21.72952803],\n",
       "       [ 16.51572821],\n",
       "       [-38.68262175],\n",
       "       [  1.5465374 ],\n",
       "       [-12.38140802],\n",
       "       [  7.06132236],\n",
       "       [ 15.76403886],\n",
       "       [  7.66634343],\n",
       "       [  6.7794244 ],\n",
       "       [-21.02895709],\n",
       "       [-10.64823116],\n",
       "       [ 44.97102174],\n",
       "       [-19.27347355],\n",
       "       [ -6.29186416],\n",
       "       [ -4.50684507],\n",
       "       [-19.06574727],\n",
       "       [ 21.48483677],\n",
       "       [-36.07393717],\n",
       "       [ -1.18789788],\n",
       "       [ 26.02391487],\n",
       "       [  4.92479749],\n",
       "       [  6.84591291],\n",
       "       [ 50.59567713],\n",
       "       [  9.94663524],\n",
       "       [-22.28174459],\n",
       "       [-37.97514388],\n",
       "       [ 12.87563622],\n",
       "       [-28.74477347],\n",
       "       [ 20.20379888],\n",
       "       [ -1.44832197],\n",
       "       [ 42.68451193],\n",
       "       [-53.30155175],\n",
       "       [-41.75520309],\n",
       "       [-72.07001318],\n",
       "       [-39.4540071 ],\n",
       "       [ 33.84977538],\n",
       "       [-33.06501441],\n",
       "       [ -0.66991156],\n",
       "       [  0.58924845],\n",
       "       [ -1.57075524],\n",
       "       [-25.98498064],\n",
       "       [ 32.29711363],\n",
       "       [ 47.57146353],\n",
       "       [-65.97318439],\n",
       "       [ 14.70432659],\n",
       "       [ -9.29713613],\n",
       "       [ -6.81728985],\n",
       "       [ 14.65298844],\n",
       "       [ 13.51567903],\n",
       "       [-18.83620457],\n",
       "       [ -7.92471098],\n",
       "       [-64.30467745],\n",
       "       [ -3.00767868],\n",
       "       [-11.02458408],\n",
       "       [  6.0762944 ],\n",
       "       [ 16.40445419],\n",
       "       [ 75.54504473],\n",
       "       [-22.88284471],\n",
       "       [ -6.6188339 ],\n",
       "       [-22.64457736],\n",
       "       [-38.51462142],\n",
       "       [ 14.52851299],\n",
       "       [  8.48703783],\n",
       "       [ 47.19965859],\n",
       "       [ 14.45945766],\n",
       "       [ 22.69304932],\n",
       "       [ -4.30503563],\n",
       "       [-22.27090606],\n",
       "       [ 18.99048812],\n",
       "       [-63.8032818 ],\n",
       "       [  4.57171742],\n",
       "       [ -6.32950231],\n",
       "       [-13.53825516],\n",
       "       [ 13.70234256],\n",
       "       [ 11.35386604],\n",
       "       [-36.8377445 ],\n",
       "       [ 20.47399968],\n",
       "       [  4.31680795],\n",
       "       [ 18.42750778],\n",
       "       [-38.40891546],\n",
       "       [-25.39055634],\n",
       "       [ 10.49014789],\n",
       "       [  6.35968693],\n",
       "       [-15.14860303],\n",
       "       [ -2.83191719],\n",
       "       [ -3.71120366],\n",
       "       [  6.96437911],\n",
       "       [-15.43860879],\n",
       "       [ 13.02368852],\n",
       "       [ 43.57306556],\n",
       "       [ 15.75725836],\n",
       "       [ 14.56264728],\n",
       "       [-18.36770722],\n",
       "       [-16.47411315]])"
      ]
     },
     "execution_count": 12,
     "metadata": {},
     "output_type": "execute_result"
    }
   ],
   "source": [
    "prediction = np.full(shape=(100,1), fill_value=w*X+b)\n",
    "prediction"
   ]
  },
  {
   "cell_type": "code",
   "execution_count": 13,
   "metadata": {
    "scrolled": true
   },
   "outputs": [
    {
     "data": {
      "text/plain": [
       "[<matplotlib.lines.Line2D at 0x22aa7e016a0>]"
      ]
     },
     "execution_count": 13,
     "metadata": {},
     "output_type": "execute_result"
    },
    {
     "data": {
      "image/png": "[encoded data removed]",
      "text/plain": [
       "<Figure size 432x288 with 1 Axes>"
      ]
     },
     "metadata": {
      "needs_background": "light"
     },
     "output_type": "display_data"
    }
   ],
   "source": [
    "plt.scatter(X,y)\n",
    "\n",
    "plt.plot(X, prediction, 'r--')"
   ]
  },
  {
   "cell_type": "markdown",
   "metadata": {},
   "source": [
    "## 最小二乘法求解线性回归"
   ]
  },
  {
   "cell_type": "code",
   "execution_count": 25,
   "metadata": {
    "collapsed": true
   },
   "outputs": [
    {
     "data": {
      "text/plain": [
       "array([[-0.30325079,  1.        ],\n",
       "       [-0.37229837,  1.        ],\n",
       "       [-1.33124862,  1.        ],\n",
       "       [ 0.77331551,  1.        ],\n",
       "       [ 0.0936953 ,  1.        ],\n",
       "       [ 0.55490619,  1.        ],\n",
       "       [ 0.82407436,  1.        ],\n",
       "       [ 0.63445997,  1.        ],\n",
       "       [-1.37298218,  1.        ],\n",
       "       [ 0.09006354,  1.        ],\n",
       "       [-0.4164651 ,  1.        ],\n",
       "       [ 0.29062409,  1.        ],\n",
       "       [ 0.60712268,  1.        ],\n",
       "       [ 0.31262737,  1.        ],\n",
       "       [ 0.28037209,  1.        ],\n",
       "       [-0.73095737,  1.        ],\n",
       "       [-0.35343328,  1.        ],\n",
       "       [ 1.66931618,  1.        ],\n",
       "       [-0.66711431,  1.        ],\n",
       "       [-0.19500183,  1.        ],\n",
       "       [-0.13008462,  1.        ],\n",
       "       [-0.65955976,  1.        ],\n",
       "       [ 0.81517548,  1.        ],\n",
       "       [-1.27811008,  1.        ],\n",
       "       [-0.00938184,  1.        ],\n",
       "       [ 0.98025173,  1.        ],\n",
       "       [ 0.2129234 ,  1.        ],\n",
       "       [ 0.28279013,  1.        ],\n",
       "       [ 1.87387248,  1.        ],\n",
       "       [ 0.39555655,  1.        ],\n",
       "       [-0.77651848,  1.        ],\n",
       "       [-1.34725278,  1.        ],\n",
       "       [ 0.50207785,  1.        ],\n",
       "       [-1.01156458,  1.        ],\n",
       "       [ 0.76858696,  1.        ],\n",
       "       [-0.01885289,  1.        ],\n",
       "       [ 1.58616087,  1.        ],\n",
       "       [-1.9046404 ,  1.        ],\n",
       "       [-1.48472519,  1.        ],\n",
       "       [-2.58720792,  1.        ],\n",
       "       [-1.40103577,  1.        ],\n",
       "       [ 1.264861  ,  1.        ],\n",
       "       [-1.16868221,  1.        ],\n",
       "       [ 0.00945618,  1.        ],\n",
       "       [ 0.05524905,  1.        ],\n",
       "       [-0.02330552,  1.        ],\n",
       "       [-0.911197  ,  1.        ],\n",
       "       [ 1.20839412,  1.        ],\n",
       "       [ 1.76388851,  1.        ],\n",
       "       [-2.36547971,  1.        ],\n",
       "       [ 0.56858329,  1.        ],\n",
       "       [-0.30429693,  1.        ],\n",
       "       [-0.2141104 ,  1.        ],\n",
       "       [ 0.56671623,  1.        ],\n",
       "       [ 0.5253548 ,  1.        ],\n",
       "       [-0.6512118 ,  1.        ],\n",
       "       [-0.25438486,  1.        ],\n",
       "       [-2.3047998 ,  1.        ],\n",
       "       [-0.07556325,  1.        ],\n",
       "       [-0.3671204 ,  1.        ],\n",
       "       [ 0.2548008 ,  1.        ],\n",
       "       [ 0.63041318,  1.        ],\n",
       "       [ 2.78122591,  1.        ],\n",
       "       [-0.79837917,  1.        ],\n",
       "       [-0.20689299,  1.        ],\n",
       "       [-0.78971391,  1.        ],\n",
       "       [-1.36687238,  1.        ],\n",
       "       [ 0.56218933,  1.        ],\n",
       "       [ 0.34247422,  1.        ],\n",
       "       [ 1.75036679,  1.        ],\n",
       "       [ 0.55967794,  1.        ],\n",
       "       [ 0.8591155 ,  1.        ],\n",
       "       [-0.12274526,  1.        ],\n",
       "       [-0.77612431,  1.        ],\n",
       "       [ 0.72446152,  1.        ],\n",
       "       [-2.28656514,  1.        ],\n",
       "       [ 0.20008266,  1.        ],\n",
       "       [-0.19637064,  1.        ],\n",
       "       [-0.45853707,  1.        ],\n",
       "       [ 0.53214334,  1.        ],\n",
       "       [ 0.44673443,  1.        ],\n",
       "       [-1.30588807,  1.        ],\n",
       "       [ 0.77841356,  1.        ],\n",
       "       [ 0.19081216,  1.        ],\n",
       "       [ 0.70398717,  1.        ],\n",
       "       [-1.36302809,  1.        ],\n",
       "       [-0.8895791 ,  1.        ],\n",
       "       [ 0.41532291,  1.        ],\n",
       "       [ 0.26510716,  1.        ],\n",
       "       [-0.51710187,  1.        ],\n",
       "       [-0.06917119,  1.        ],\n",
       "       [-0.1011489 ,  1.        ],\n",
       "       [ 0.28709848,  1.        ],\n",
       "       [-0.52764874,  1.        ],\n",
       "       [ 0.50746219,  1.        ],\n",
       "       [ 1.6184756 ,  1.        ],\n",
       "       [ 0.60687609,  1.        ],\n",
       "       [ 0.56343072,  1.        ],\n",
       "       [-0.63417358,  1.        ],\n",
       "       [-0.56530775,  1.        ]])"
      ]
     },
     "execution_count": 25,
     "metadata": {},
     "output_type": "execute_result"
    }
   ],
   "source": [
    "A = np.insert(X, 1, 1, axis=1)\n",
    "A"
   ]
  },
  {
   "cell_type": "code",
   "execution_count": 27,
   "metadata": {
    "collapsed": true
   },
   "outputs": [
    {
     "data": {
      "text/plain": [
       "array([[27.4968571 ],\n",
       "       [-0.92992681]])"
      ]
     },
     "execution_count": 27,
     "metadata": {},
     "output_type": "execute_result"
    }
   ],
   "source": [
    "w_b = np.linalg.inv(A.T @ A) @ A.T @ y\n",
    "w_b"
   ]
  },
  {
   "cell_type": "code",
   "execution_count": 28,
   "metadata": {
    "collapsed": true
   },
   "outputs": [
    {
     "data": {
      "text/plain": [
       "array([[ -9.26837034],\n",
       "       [-11.16696184],\n",
       "       [-37.53507993],\n",
       "       [ 20.3338194 ],\n",
       "       [  1.64639948],\n",
       "       [ 14.32824943],\n",
       "       [ 21.72952803],\n",
       "       [ 16.51572821],\n",
       "       [-38.68262175],\n",
       "       [  1.5465374 ],\n",
       "       [-12.38140802],\n",
       "       [  7.06132236],\n",
       "       [ 15.76403886],\n",
       "       [  7.66634343],\n",
       "       [  6.7794244 ],\n",
       "       [-21.02895709],\n",
       "       [-10.64823116],\n",
       "       [ 44.97102174],\n",
       "       [-19.27347355],\n",
       "       [ -6.29186416],\n",
       "       [ -4.50684507],\n",
       "       [-19.06574727],\n",
       "       [ 21.48483677],\n",
       "       [-36.07393717],\n",
       "       [ -1.18789788],\n",
       "       [ 26.02391487],\n",
       "       [  4.92479749],\n",
       "       [  6.84591291],\n",
       "       [ 50.59567713],\n",
       "       [  9.94663524],\n",
       "       [-22.28174459],\n",
       "       [-37.97514388],\n",
       "       [ 12.87563622],\n",
       "       [-28.74477347],\n",
       "       [ 20.20379888],\n",
       "       [ -1.44832197],\n",
       "       [ 42.68451193],\n",
       "       [-53.30155175],\n",
       "       [-41.75520309],\n",
       "       [-72.07001318],\n",
       "       [-39.4540071 ],\n",
       "       [ 33.84977538],\n",
       "       [-33.06501441],\n",
       "       [ -0.66991156],\n",
       "       [  0.58924845],\n",
       "       [ -1.57075524],\n",
       "       [-25.98498064],\n",
       "       [ 32.29711363],\n",
       "       [ 47.57146353],\n",
       "       [-65.97318439],\n",
       "       [ 14.70432659],\n",
       "       [ -9.29713613],\n",
       "       [ -6.81728985],\n",
       "       [ 14.65298844],\n",
       "       [ 13.51567903],\n",
       "       [-18.83620457],\n",
       "       [ -7.92471098],\n",
       "       [-64.30467745],\n",
       "       [ -3.00767868],\n",
       "       [-11.02458408],\n",
       "       [  6.0762944 ],\n",
       "       [ 16.40445419],\n",
       "       [ 75.54504473],\n",
       "       [-22.88284471],\n",
       "       [ -6.6188339 ],\n",
       "       [-22.64457736],\n",
       "       [-38.51462142],\n",
       "       [ 14.52851299],\n",
       "       [  8.48703783],\n",
       "       [ 47.19965859],\n",
       "       [ 14.45945766],\n",
       "       [ 22.69304932],\n",
       "       [ -4.30503563],\n",
       "       [-22.27090606],\n",
       "       [ 18.99048812],\n",
       "       [-63.8032818 ],\n",
       "       [  4.57171742],\n",
       "       [ -6.32950231],\n",
       "       [-13.53825516],\n",
       "       [ 13.70234256],\n",
       "       [ 11.35386604],\n",
       "       [-36.8377445 ],\n",
       "       [ 20.47399968],\n",
       "       [  4.31680795],\n",
       "       [ 18.42750778],\n",
       "       [-38.40891546],\n",
       "       [-25.39055634],\n",
       "       [ 10.49014789],\n",
       "       [  6.35968693],\n",
       "       [-15.14860303],\n",
       "       [ -2.83191719],\n",
       "       [ -3.71120366],\n",
       "       [  6.96437911],\n",
       "       [-15.43860879],\n",
       "       [ 13.02368852],\n",
       "       [ 43.57306556],\n",
       "       [ 15.75725836],\n",
       "       [ 14.56264728],\n",
       "       [-18.36770722],\n",
       "       [-16.47411315]])"
      ]
     },
     "execution_count": 28,
     "metadata": {},
     "output_type": "execute_result"
    }
   ],
   "source": [
    "prediction_1 = A @ w_b\n",
    "prediction_1"
   ]
  },
  {
   "cell_type": "code",
   "execution_count": 29,
   "metadata": {},
   "outputs": [
    {
     "data": {
      "text/plain": [
       "[<matplotlib.lines.Line2D at 0x22aa97a06a0>]"
      ]
     },
     "execution_count": 29,
     "metadata": {},
     "output_type": "execute_result"
    },
    {
     "data": {
      "image/png": "[encoded data removed]",
      "text/plain": [
       "<Figure size 432x288 with 1 Axes>"
      ]
     },
     "metadata": {
      "needs_background": "light"
     },
     "output_type": "display_data"
    }
   ],
   "source": [
    "plt.scatter(X, y)\n",
    "\n",
    "plt.plot(X, prediction_1, 'g--')"
   ]
  }
 ],
 "metadata": {
  "kernelspec": {
   "display_name": "Python 3",
   "language": "python",
   "name": "python3"
  },
  "language_info": {
   "codemirror_mode": {
    "name": "ipython",
    "version": 3
   },
   "file_extension": ".py",
   "mimetype": "text/x-python",
   "name": "python",
   "nbconvert_exporter": "python",
   "pygments_lexer": "ipython3",
   "version": "3.8.5"
  }
 },
 "nbformat": 4,
 "nbformat_minor": 4
}
